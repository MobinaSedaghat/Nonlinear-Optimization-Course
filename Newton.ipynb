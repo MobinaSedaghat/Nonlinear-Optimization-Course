{
  "nbformat": 4,
  "nbformat_minor": 0,
  "metadata": {
    "colab": {
      "provenance": [],
      "authorship_tag": "ABX9TyOD83qqSRhVz3DEyRA+4eJq",
      "include_colab_link": true
    },
    "kernelspec": {
      "name": "python3",
      "display_name": "Python 3"
    },
    "language_info": {
      "name": "python"
    }
  },
  "cells": [
    {
      "cell_type": "markdown",
      "metadata": {
        "id": "view-in-github",
        "colab_type": "text"
      },
      "source": [
        "<a href=\"https://colab.research.google.com/github/MobinaSedaghat/Nonlinear-Optimization-Course/blob/main/Newton.ipynb\" target=\"_parent\"><img src=\"https://colab.research.google.com/assets/colab-badge.svg\" alt=\"Open In Colab\"/></a>"
      ]
    },
    {
      "cell_type": "code",
      "source": [
        "import numpy as np\n",
        "from numdifftools import Gradient\n",
        "from torch import tensor\n",
        "from torch.autograd.functional import hessian"
      ],
      "metadata": {
        "id": "6i7m3Y_5cqf7"
      },
      "execution_count": null,
      "outputs": []
    },
    {
      "cell_type": "code",
      "source": [
        "x = np.array([1., 2.])\n",
        "e = 0.01"
      ],
      "metadata": {
        "id": "TuH4EltGcubo"
      },
      "execution_count": null,
      "outputs": []
    },
    {
      "cell_type": "code",
      "source": [
        "def f(x):\n",
        "    y = x[0] **2\n",
        "    #y = x[0] ** 4 - 2*x[1] ** 2 + 5\n",
        "    return y"
      ],
      "metadata": {
        "id": "ZY7pMMgzcx3r"
      },
      "execution_count": null,
      "outputs": []
    },
    {
      "cell_type": "code",
      "source": [
        "def norm(x):\n",
        "    y = 0\n",
        "    for i in range(len(x)):\n",
        "        y += x[i] ** 2\n",
        "\n",
        "    return y ** 0.5"
      ],
      "metadata": {
        "id": "X0xurN_8c0YL"
      },
      "execution_count": null,
      "outputs": []
    },
    {
      "cell_type": "code",
      "execution_count": null,
      "metadata": {
        "colab": {
          "base_uri": "https://localhost:8080/"
        },
        "id": "uEA49BQ_bkLS",
        "outputId": "6f70b7c5-9d98-40b5-93d7-902bcad91c3b"
      },
      "outputs": [
        {
          "output_type": "stream",
          "name": "stdout",
          "text": [
            "Point: [2.22044605e-16 4.44089210e-16], Min f(x): 4.930380657631324e-32\n"
          ]
        }
      ],
      "source": [
        "\n",
        "while norm(Gradient(f)(x)) > e:\n",
        "\n",
        "    inp = tensor(x)\n",
        "    hes = hessian(f, inp)\n",
        "\n",
        "    hes_inv = np.linalg.inv(hes)\n",
        "    hes_inv = np.array(hes_inv)\n",
        "    print(f'hes = {hes_inv}')\n",
        "\n",
        "    grd = Gradient(f)(x)\n",
        "    grd = np.array(grd)\n",
        "    print(f'grd = {grd}')\n",
        "\n",
        "    d = np.dot(hes_inv, grd)\n",
        "    d = np.multiply(d, -1)\n",
        "    x = np.add(x, d)\n",
        "    print(f'multiply = {d}')\n",
        "    print()\n",
        "\n",
        "print(f'Point: {x}, Min f(x): {f(x)}')\n"
      ]
    }
  ]
}