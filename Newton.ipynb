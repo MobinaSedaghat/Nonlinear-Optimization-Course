{
  "cells": [
    {
      "cell_type": "markdown",
      "metadata": {
        "id": "view-in-github",
        "colab_type": "text"
      },
      "source": [
        "<a href=\"https://colab.research.google.com/github/MobinaSedaghat/Nonlinear-Optimization-Course/blob/main/Newton2.ipynb\" target=\"_parent\"><img src=\"https://colab.research.google.com/assets/colab-badge.svg\" alt=\"Open In Colab\"/></a>"
      ]
    },
    {
      "cell_type": "code",
      "source": [
        "import torch\n",
        "from torch.autograd.functional import hessian\n",
        "import numdifftools as nd\n",
        "import numpy as np"
      ],
      "metadata": {
        "id": "IGUkBPkiO7f4"
      },
      "id": "IGUkBPkiO7f4",
      "execution_count": null,
      "outputs": []
    },
    {
      "cell_type": "code",
      "source": [
        "n = int(input(\"enter dimensions: \"))\n",
        "t = 0.01\n",
        "x = [0.5 for i in range(n)]"
      ],
      "metadata": {
        "colab": {
          "base_uri": "https://localhost:8080/"
        },
        "id": "JaRNoSChsAd1",
        "outputId": "3c8e3048-7711-4604-e795-ba82dfdc4981"
      },
      "id": "JaRNoSChsAd1",
      "execution_count": null,
      "outputs": [
        {
          "name": "stdout",
          "output_type": "stream",
          "text": [
            "enter dimensions: 1\n"
          ]
        }
      ]
    },
    {
      "cell_type": "code",
      "source": [
        "\n",
        "e = 'yes'\n",
        "m = 0\n",
        "fu = ''\n",
        "power = []\n",
        "coefficient = []\n",
        "print('consider f(x) = c0 * (x0^p0)(x1^p1)...(xn^pn) + c1 * (x0^a0)(x1^a1)...(xn^an) ...\\n   enter the coefficients and powers for each sentence')\n",
        "while e != 'no':\n",
        "  power.append([])\n",
        "\n",
        "  print('\\n coefficient ' ,m)\n",
        "  coefficient.append(int(input()))\n",
        "  print('powers ',m)\n",
        "  for i in range(n):\n",
        "    print('x%d power:' % (i))\n",
        "    power[m].append( int(input()))\n",
        "\n",
        "  print('f(x) = ',end='')\n",
        "  fu+= '(%d)' % (coefficient[m])\n",
        "  for i in range(n):\n",
        "    fu += ' * x%d**%d'%(i,power[m][i])\n",
        "  print(fu, end = '')\n",
        "  e = input('\\n \\n Continue?(yes/no)')\n",
        "  m+=1\n",
        "  if e == 'yes':\n",
        "    fu+= ' + '\n"
      ],
      "metadata": {
        "colab": {
          "base_uri": "https://localhost:8080/"
        },
        "id": "nXC1_Y1BS-cQ",
        "outputId": "ad75fc84-1e06-4165-adc7-53a91ad71345"
      },
      "execution_count": null,
      "outputs": [
        {
          "name": "stdout",
          "output_type": "stream",
          "text": [
            "consider f(x) = c0 * (x0^p0)(x1^p1)...(xn^pn) + c1 * (x0^a0)(x1^a1)...(xn^an) ...\n",
            "   enter the coefficients and powers for each sentence\n",
            "\n",
            " coefficient  0\n",
            "1\n",
            "powers  0\n",
            "x0 power:\n",
            "4\n",
            "f(x) = (1) * x0**4\n",
            " \n",
            " Continue?(yes/no)yes\n",
            "\n",
            " coefficient  1\n",
            "-2\n",
            "powers  1\n",
            "x0 power:\n",
            "2\n",
            "f(x) = (1) * x0**4 + (-2) * x0**2\n",
            " \n",
            " Continue?(yes/no)yes\n",
            "\n",
            " coefficient  2\n",
            "5\n",
            "powers  2\n",
            "x0 power:\n",
            "0\n",
            "f(x) = (1) * x0**4 + (-2) * x0**2 + (5) * x0**0\n",
            " \n",
            " Continue?(yes/no)no\n"
          ]
        }
      ],
      "id": "nXC1_Y1BS-cQ"
    },
    {
      "cell_type": "code",
      "source": [
        "\n",
        "\n",
        "def gradient_f(x):\n",
        "  grad = [0 for i in range(n)]\n",
        "  for i in range(m):\n",
        "    for j in range(n):\n",
        "      z = 1\n",
        "      if power[i][j] ==0:\n",
        "        continue\n",
        "      else:\n",
        "        my_list = list(range(n))\n",
        "        my_list.remove(j)\n",
        "        for k in my_list:\n",
        "          z = z * pow( x[k] , power[i][k] )\n",
        "        grad[j] += coefficient[i]*power[i][j] * (x[j] ** (power[i][j]-1))* z\n",
        "        z = 1\n",
        "\n",
        "  return grad"
      ],
      "metadata": {
        "id": "BfHp4MmxwyMj"
      },
      "id": "BfHp4MmxwyMj",
      "execution_count": null,
      "outputs": []
    },
    {
      "cell_type": "code",
      "source": [
        "\n",
        "def f(x):\n",
        "  func = fu\n",
        "  y = 0\n",
        "\n",
        "  for i in range (n):\n",
        "    func = func.replace('x%d'%i,'(%f)'%x[i])\n",
        "  y = eval(func)\n",
        "  return y\n",
        "\n"
      ],
      "metadata": {
        "id": "nVrzzKy3SDhG"
      },
      "id": "nVrzzKy3SDhG",
      "execution_count": null,
      "outputs": []
    },
    {
      "cell_type": "code",
      "source": [
        "\n",
        "def norm(x):\n",
        "    y = 0\n",
        "    for i in range(len(x)):\n",
        "      y += pow(x[i],2)\n",
        "\n",
        "    return y ** 0.5"
      ],
      "metadata": {
        "id": "fYolUrFX18h1"
      },
      "id": "fYolUrFX18h1",
      "execution_count": null,
      "outputs": []
    },
    {
      "cell_type": "code",
      "source": [
        "def newton(x):\n",
        "  gr = []\n",
        "\n",
        "  while  norm(gradient_f(x))>0.01:\n",
        "    gr = gradient_f(x)\n",
        "    for i in range(n):\n",
        "      x[i] = x[i] - f(x)/gr[i]\n",
        "  return x"
      ],
      "metadata": {
        "id": "4HCB9X_jxqXl"
      },
      "id": "4HCB9X_jxqXl",
      "execution_count": null,
      "outputs": []
    },
    {
      "cell_type": "code",
      "source": [
        "\n",
        "print(\"Optimal solution is at \", newton(x),\",where f(x) = \", f(newton(x)))\n"
      ],
      "metadata": {
        "colab": {
          "base_uri": "https://localhost:8080/"
        },
        "id": "39vjuVPKADJ_",
        "outputId": "b74f1047-c574-4bcf-d226-a5dbec31e750"
      },
      "id": "39vjuVPKADJ_",
      "execution_count": null,
      "outputs": [
        {
          "output_type": "stream",
          "name": "stdout",
          "text": [
            "Optimal solution is at  [-0.9997138461132307] ,where f(x) =  4.000000327090432\n"
          ]
        }
      ]
    }
  ],
  "metadata": {
    "kernelspec": {
      "display_name": "Python 3",
      "language": "python",
      "name": "python3"
    },
    "language_info": {
      "codemirror_mode": {
        "name": "ipython",
        "version": 3
      },
      "file_extension": ".py",
      "mimetype": "text/x-python",
      "name": "python",
      "nbconvert_exporter": "python",
      "pygments_lexer": "ipython3",
      "version": "3.8.8"
    },
    "colab": {
      "provenance": [],
      "include_colab_link": true
    }
  },
  "nbformat": 4,
  "nbformat_minor": 5
}
