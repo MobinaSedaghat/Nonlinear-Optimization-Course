{
  "cells": [
    {
      "cell_type": "markdown",
      "metadata": {
        "id": "view-in-github",
        "colab_type": "text"
      },
      "source": [
        "<a href=\"https://colab.research.google.com/github/MobinaSedaghat/Nonlinear-Optimization-Course/blob/main/GradientDescent.ipynb\" target=\"_parent\"><img src=\"https://colab.research.google.com/assets/colab-badge.svg\" alt=\"Open In Colab\"/></a>"
      ]
    },
    {
      "cell_type": "code",
      "source": [
        "n = int(input(\"enter dimensions: \"))\n",
        "alpha = 0.01\n",
        "x = [0.5 for i in range(n)]"
      ],
      "metadata": {
        "colab": {
          "base_uri": "https://localhost:8080/"
        },
        "id": "JaRNoSChsAd1",
        "outputId": "edbfde14-d273-4fa8-b61c-4ace5b79c950"
      },
      "id": "JaRNoSChsAd1",
      "execution_count": null,
      "outputs": [
        {
          "name": "stdout",
          "output_type": "stream",
          "text": [
            "enter dimensions: 1\n"
          ]
        }
      ]
    },
    {
      "cell_type": "code",
      "source": [
        "\n",
        "e = 'yes'\n",
        "m = 0\n",
        "fu = ''\n",
        "power = []\n",
        "coefficient = []\n",
        "print('consider f(x) = c0 * (x0^p0)(x1^p1)...(xn^pn) + c1 * (x0^a0)(x1^a1)...(xn^an) ...\\n   enter the coefficients and powers for each sentence')\n",
        "while e != 'no':\n",
        "  power.append([])\n",
        "\n",
        "  print('\\n coefficient ' ,m)\n",
        "  coefficient.append(int(input()))\n",
        "  print('powers ',m)\n",
        "  for i in range(n):\n",
        "    print('x%d power:' % (i))\n",
        "    power[m].append( int(input()))\n",
        "\n",
        "  print('f(x) = ',end='')\n",
        "  fu+= '(%d)' % (coefficient[m])\n",
        "  for i in range(n):\n",
        "    fu += ' * x%d**%d'%(i,power[m][i])\n",
        "  print(fu, end = '')\n",
        "  e = input('\\n \\n Continue?(yes/no)')\n",
        "  m+=1\n",
        "  if e == 'yes':\n",
        "    fu=fu + ' + '\n"
      ],
      "metadata": {
        "colab": {
          "base_uri": "https://localhost:8080/"
        },
        "id": "nXC1_Y1BS-cQ",
        "outputId": "e83102de-426d-42d1-d4bc-d7110d9ed23d"
      },
      "execution_count": null,
      "outputs": [
        {
          "name": "stdout",
          "output_type": "stream",
          "text": [
            "consider f(x) = c0 * (x0^p0)(x1^p1)...(xn^pn) + c1 * (x0^a0)(x1^a1)...(xn^an) ...\n",
            "   enter the coefficients and powers for each sentence\n",
            "\n",
            " coefficient  0\n",
            "1\n",
            "powers  0\n",
            "x0 power:\n",
            "2\n",
            "f(x) = (1) * x0**2\n",
            " \n",
            " Continue?(yes/no)no\n"
          ]
        }
      ],
      "id": "nXC1_Y1BS-cQ"
    },
    {
      "cell_type": "code",
      "source": [
        "import numdifftools as nd\n",
        "\n",
        "def gradient_f(x):\n",
        "  grad = [0 for i in range(n)]\n",
        "  for i in range(m):\n",
        "    for j in range(n):\n",
        "      z = 1\n",
        "      if power[i][j] ==0:\n",
        "        continue\n",
        "      else:\n",
        "        my_list = list(range(n))\n",
        "        my_list.remove(j)\n",
        "        for k in my_list:\n",
        "          z = z * x[k] **power[i][k]\n",
        "        grad[j] += coefficient[i]*power[i][j] * (x[j] ** (power[i][j]-1))* z\n",
        "        z = 1\n",
        "  return grad"
      ],
      "metadata": {
        "id": "BfHp4MmxwyMj"
      },
      "id": "BfHp4MmxwyMj",
      "execution_count": null,
      "outputs": []
    },
    {
      "cell_type": "code",
      "source": [
        "\n",
        "def f(x):\n",
        "  func = fu\n",
        "  y = 0\n",
        "  for i in range (n):\n",
        "    func = func.replace('x%d'%i,'(%f)'%x[i])\n",
        "  y = eval(func)\n",
        "  return y\n",
        "\n"
      ],
      "metadata": {
        "id": "nVrzzKy3SDhG"
      },
      "id": "nVrzzKy3SDhG",
      "execution_count": null,
      "outputs": []
    },
    {
      "cell_type": "code",
      "source": [
        "\n",
        "def norm(x):\n",
        "    y = 0\n",
        "    for i in range(len(x)):\n",
        "      y += x[i] ** 2\n",
        "\n",
        "    return y ** 0.5"
      ],
      "metadata": {
        "id": "fYolUrFX18h1"
      },
      "id": "fYolUrFX18h1",
      "execution_count": null,
      "outputs": []
    },
    {
      "cell_type": "markdown",
      "source": [
        "### Gradient Descent"
      ],
      "metadata": {
        "id": "VJ4QgXUp0m5b"
      },
      "id": "VJ4QgXUp0m5b"
    },
    {
      "cell_type": "code",
      "source": [
        "def gradient_descent(x):\n",
        "  itr=0\n",
        "  gr = []\n",
        "  while itr < 1000 or norm(gradient_f(x))>0.01:\n",
        "    gr = gradient_f(x)\n",
        "    for i in range(n):\n",
        "      x[i] =(x[i]) - (alpha) * gr[i]\n",
        "\n",
        "    itr = itr + 1\n",
        "  return x"
      ],
      "metadata": {
        "id": "4HCB9X_jxqXl"
      },
      "id": "4HCB9X_jxqXl",
      "execution_count": null,
      "outputs": []
    },
    {
      "cell_type": "code",
      "source": [
        "\n",
        "print(\"Point: \", gradient_descent(x),\",Min f(x) = \", f(gradient_descent(x)))\n"
      ],
      "metadata": {
        "colab": {
          "base_uri": "https://localhost:8080/"
        },
        "id": "39vjuVPKADJ_",
        "outputId": "328a9db0-2814-4a7c-a635-79b65d85f884"
      },
      "id": "39vjuVPKADJ_",
      "execution_count": null,
      "outputs": [
        {
          "output_type": "stream",
          "name": "stdout",
          "text": [
            "Point:  [2.832379125454458e-18] ,Min f(x) =  0.0\n"
          ]
        }
      ]
    }
  ],
  "metadata": {
    "kernelspec": {
      "display_name": "Python 3",
      "language": "python",
      "name": "python3"
    },
    "language_info": {
      "codemirror_mode": {
        "name": "ipython",
        "version": 3
      },
      "file_extension": ".py",
      "mimetype": "text/x-python",
      "name": "python",
      "nbconvert_exporter": "python",
      "pygments_lexer": "ipython3",
      "version": "3.8.8"
    },
    "colab": {
      "provenance": [],
      "include_colab_link": true
    }
  },
  "nbformat": 4,
  "nbformat_minor": 5
}