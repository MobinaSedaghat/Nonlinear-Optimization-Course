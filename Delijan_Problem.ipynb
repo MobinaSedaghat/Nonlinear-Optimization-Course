{
  "nbformat": 4,
  "nbformat_minor": 0,
  "metadata": {
    "colab": {
      "provenance": [],
      "authorship_tag": "ABX9TyNMFrCMNFrPyCQS0oBiHPtA",
      "include_colab_link": true
    },
    "kernelspec": {
      "name": "python3",
      "display_name": "Python 3"
    },
    "language_info": {
      "name": "python"
    }
  },
  "cells": [
    {
      "cell_type": "markdown",
      "metadata": {
        "id": "view-in-github",
        "colab_type": "text"
      },
      "source": [
        "<a href=\"https://colab.research.google.com/github/MobinaSedaghat/Nonlinear-Optimization-Course/blob/main/Delijan_Problem.ipynb\" target=\"_parent\"><img src=\"https://colab.research.google.com/assets/colab-badge.svg\" alt=\"Open In Colab\"/></a>"
      ]
    },
    {
      "cell_type": "code",
      "source": [
        "def route(n):\n",
        "    r.append(n+1)\n",
        "    if n == 0:\n",
        "        r.reverse()\n",
        "        print(r)\n",
        "        r.reverse()\n",
        "        return\n",
        "\n",
        "    for i in range(len(father[n])):\n",
        "        route(father[n][i])\n",
        "        r.pop()\n",
        "    return\n"
      ],
      "metadata": {
        "id": "9j59S0xfdtfm"
      },
      "execution_count": null,
      "outputs": []
    },
    {
      "cell_type": "code",
      "execution_count": null,
      "metadata": {
        "colab": {
          "base_uri": "https://localhost:8080/"
        },
        "id": "2VzVGVZ5eVsX",
        "outputId": "7628147d-573d-492a-939d-e214015e498a"
      },
      "outputs": [
        {
          "output_type": "stream",
          "name": "stdout",
          "text": [
            "Enter the Number of Vertexes: 8\n",
            "Enter the Number of Edges: 12\n",
            "edge  1 : \n",
            "Initial vertex: 1\n",
            "Terminal vertex: 2\n",
            "weight of the edge: 4\n",
            "edge  2 : \n",
            "Initial vertex: 1\n",
            "Terminal vertex: 3\n",
            "weight of the edge: 2\n",
            "edge  3 : \n",
            "Initial vertex: 1\n",
            "Terminal vertex: 4\n",
            "weight of the edge: 4\n",
            "edge  4 : \n",
            "Initial vertex: 2\n",
            "Terminal vertex: 5\n",
            "weight of the edge: 3\n",
            "edge  5 : \n",
            "Initial vertex: 3\n",
            "Terminal vertex: 5\n",
            "weight of the edge: 2\n",
            "edge  6 : \n",
            "Initial vertex: 3\n",
            "Terminal vertex: 6\n",
            "weight of the edge: 5\n",
            "edge  7 : \n",
            "Initial vertex: 3\n",
            "Terminal vertex: 7\n",
            "weight of the edge: 5\n",
            "edge  8 : \n",
            "Initial vertex: 4\n",
            "Terminal vertex: 6\n",
            "weight of the edge: 1\n",
            "edge  9 : \n",
            "Initial vertex: 4\n",
            "Terminal vertex: 7\n",
            "weight of the edge: 8\n",
            "edge  10 : \n",
            "Initial vertex: 5\n",
            "Terminal vertex: 8\n",
            "weight of the edge: 1\n",
            "edge  11 : \n",
            "Initial vertex: 6\n",
            "Terminal vertex: 8\n",
            "weight of the edge: 3\n",
            "edge  12 : \n",
            "Initial vertex: 7\n",
            "Terminal vertex: 8\n",
            "weight of the edge: 3\n",
            "1 2 4\n",
            "1 3 2\n",
            "1 4 4\n",
            "2 5 7\n",
            "3 5 4\n",
            "3 6 7\n",
            "3 7 7\n",
            "4 6 5\n",
            "5 8 5\n",
            "[1, 3, 5, 8]\n",
            "Cost: 5\n"
          ]
        }
      ],
      "source": [
        "r = []\n",
        "\n",
        "n = int(input('Enter the Number of Vertexes: '))\n",
        "m = int(input('Enter the Number of Edges: '))\n",
        "mat = [[-1] * n  for i in range (n) ]\n",
        "\n",
        "cost = [100000] * (n)\n",
        "father = [[] for i in range(n)]\n",
        "\n",
        "for i in range(m):\n",
        "  print('edge ' ,i+1 , ': ')\n",
        "  v1 = int(input('Initial vertex: '))\n",
        "  v2 = int(input('Terminal vertex: '))\n",
        "  c = int(input('weight of the edge: '))\n",
        "  mat[v1-1][v2-1] = c\n",
        "cost[0] = 0\n",
        "father[0] = [0]\n",
        "\n",
        "for i in range(n):\n",
        "    for j in range(n):\n",
        "        if (mat[i][j] != -1) and (cost[i] + mat[i][j] < cost[j]):\n",
        "            cost[j] = cost[i] + mat[i][j]\n",
        "            father[j] = []\n",
        "            father[j].append(i)\n",
        "            print(i+1, j+1, cost[j])\n",
        "        elif (mat[i][j] != -1) and (cost[i] + mat[i][j] == cost[j]):\n",
        "            father[j].append(i)\n",
        "\n",
        "route(n-1)\n",
        "print(f'Cost: {cost.pop()}')\n"
      ]
    }
  ]
}